{
 "cells": [
  {
   "cell_type": "markdown",
   "id": "735233c6-a6e8-452b-a0d9-000fb5ff5978",
   "metadata": {},
   "source": [
    "pip install --upgrade pip"
   ]
  },
  {
   "cell_type": "code",
   "execution_count": 11,
   "id": "34026a21-da7f-40b9-aa28-a2a0f76edf5b",
   "metadata": {},
   "outputs": [
    {
     "name": "stdout",
     "output_type": "stream",
     "text": [
      "    EEID      Name gender   salary\n",
      "0  EMP01    ayushi      F      NaN\n",
      "1  EMP02     rohit      M  25000.0\n",
      "2  EMP03  pranjali    NaN  27000.0\n",
      "3  EMP01    ayushi      F  20000.0\n",
      "4  EMP05       NaN      M  25000.0\n",
      "5  EMP06     rohit      M      NaN\n",
      "6  EMP02     rohit      M  25000.0\n",
      "3\n"
     ]
    }
   ],
   "source": [
    "import pandas as pd\n",
    "data = pd.read_csv(\"company1 (1).csv\")\n",
    "print(data)\n",
    "print(data[\"salary\"].duplicated().sum())"
   ]
  },
  {
   "cell_type": "code",
   "execution_count": 12,
   "id": "9c4ec451-d27f-4137-95ee-2646156d8b2a",
   "metadata": {},
   "outputs": [
    {
     "name": "stdout",
     "output_type": "stream",
     "text": [
      "    EEID      Name gender   salary\n",
      "0  EMP01    ayushi      F      NaN\n",
      "1  EMP02     rohit      M  25000.0\n",
      "2  EMP03  pranjali    NaN  27000.0\n",
      "4  EMP05       NaN      M  25000.0\n",
      "5  EMP06     rohit      M      NaN\n"
     ]
    }
   ],
   "source": [
    "print(data.drop_duplicates(\"EEID\"))"
   ]
  },
  {
   "cell_type": "code",
   "execution_count": 13,
   "id": "036b6f89-ef33-4cbf-8429-18c66b6e3bed",
   "metadata": {
    "scrolled": true
   },
   "outputs": [
    {
     "name": "stdout",
     "output_type": "stream",
     "text": [
      "    EEID      Name gender   salary\n",
      "0  EMP01    ayushi      F      NaN\n",
      "1  EMP02     rohit      M  25000.0\n",
      "2  EMP03  pranjali    NaN  27000.0\n",
      "3  EMP01    ayushi      F  20000.0\n",
      "4  EMP05       NaN      M  25000.0\n",
      "5  EMP06     rohit      M      NaN\n",
      "6  EMP02     rohit      M  25000.0\n"
     ]
    }
   ],
   "source": [
    "print(data)"
   ]
  },
  {
   "cell_type": "code",
   "execution_count": 14,
   "id": "923c5102-1471-4f65-9c2c-bc2a6b9778b9",
   "metadata": {},
   "outputs": [
    {
     "name": "stdout",
     "output_type": "stream",
     "text": [
      "24400.0\n"
     ]
    }
   ],
   "source": [
    "print(data[\"salary\"].mean())"
   ]
  },
  {
   "cell_type": "code",
   "execution_count": 20,
   "id": "e8b24469-943e-485c-bb05-3ef222333f59",
   "metadata": {},
   "outputs": [
    {
     "name": "stdout",
     "output_type": "stream",
     "text": [
      "    EEID      Name gender   salary\n",
      "0  EMP01    ayushi      F  24400.0\n",
      "1  EMP02     rohit      M  25000.0\n",
      "2  EMP03  pranjali    NaN  27000.0\n",
      "3  EMP01    ayushi      F  20000.0\n",
      "4  EMP05       NaN      M  25000.0\n",
      "5  EMP06     rohit      M  24400.0\n",
      "6  EMP02     rohit      M  25000.0\n",
      "    EEID      Name gender   salary   Bonus\n",
      "0  EMP01    ayushi      F  24400.0  4880.0\n",
      "1  EMP02     rohit      M  25000.0  5000.0\n",
      "2  EMP03  pranjali    NaN  27000.0  5400.0\n",
      "3  EMP01    ayushi      F  20000.0  4000.0\n",
      "4  EMP05       NaN      M  25000.0  5000.0\n",
      "5  EMP06     rohit      M  24400.0  4880.0\n",
      "6  EMP02     rohit      M  25000.0  5000.0\n"
     ]
    }
   ],
   "source": [
    "import numpy as np\n",
    "data[\"salary\"]=data[\"salary\"].replace(np.nan, 24400)\n",
    "print(data)\n",
    "data[\"Bonus\"]= (data[\"salary\"]/100)*20\n",
    "print(data)\n"
   ]
  },
  {
   "cell_type": "code",
   "execution_count": null,
   "id": "d04ccd66-6f21-42a7-a474-1d1ac648fd34",
   "metadata": {},
   "outputs": [],
   "source": [
    "print(data[\"salary\"].mean())"
   ]
  },
  {
   "cell_type": "code",
   "execution_count": null,
   "id": "63750997-10f3-4ed5-86ad-c0c93a734482",
   "metadata": {},
   "outputs": [],
   "source": [
    "print(data.fillna(method= 'bfill'))"
   ]
  },
  {
   "cell_type": "code",
   "execution_count": null,
   "id": "396e0989-3cec-4252-ae4c-ae9b973899b0",
   "metadata": {},
   "outputs": [],
   "source": [
    "print(data.fillna(method='ffill'))"
   ]
  },
  {
   "cell_type": "raw",
   "id": "f7f2bd66-9968-41ba-b9ab-809eb8c62fd4",
   "metadata": {},
   "source": [
    "#Column Transformantion Method "
   ]
  },
  {
   "cell_type": "code",
   "execution_count": 16,
   "id": "f4ed6e67-3a43-4e75-8992-437eee9d41d0",
   "metadata": {},
   "outputs": [
    {
     "name": "stdout",
     "output_type": "stream",
     "text": [
      "       EEID        Full Name                 Job Title  Department  \\\n",
      "0    E02387      Emily Davis                Sr. Manger          IT   \n",
      "1    E04105    Theodore Dinh       Technical Architect          IT   \n",
      "2    E02572     Luna Sanders                  Director     Finance   \n",
      "3    E02832  Penelope Jordan  Computer Systems Manager          IT   \n",
      "4    E01639        Austin Vo               Sr. Analyst     Finance   \n",
      "..      ...              ...                       ...         ...   \n",
      "995  E03094     Wesley Young               Sr. Analyst   Marketing   \n",
      "996  E01909     Lillian Khan                   Analyst     Finance   \n",
      "997  E04398      Oliver Yang                  Director   Marketing   \n",
      "998  E02521      Lily Nguyen               Sr. Analyst     Finance   \n",
      "999  E03545      Sofia Cheng            Vice President  Accounting   \n",
      "\n",
      "              Business Unit  Gender  Ethnicity  Age  Hire Date  Annual Salary  \\\n",
      "0    Research & Development  Female      Black   55 2016-04-08         141604   \n",
      "1             Manufacturing    Male      Asian   59 1997-11-29          99975   \n",
      "2       Speciality Products  Female  Caucasian   50 2006-10-26         163099   \n",
      "3             Manufacturing  Female  Caucasian   26 2019-09-27          84913   \n",
      "4             Manufacturing    Male      Asian   55 1995-11-20          95409   \n",
      "..                      ...     ...        ...  ...        ...            ...   \n",
      "995     Speciality Products    Male  Caucasian   33 2016-09-18          98427   \n",
      "996     Speciality Products  Female      Asian   44 2010-05-31          47387   \n",
      "997     Speciality Products    Male      Asian   31 2019-06-10         176710   \n",
      "998     Speciality Products  Female      Asian   33 2012-01-28          95960   \n",
      "999               Corporate  Female      Asian   63 2020-07-26         216195   \n",
      "\n",
      "     Bonus %        Country       City  Exit Date  GetBonus  \n",
      "0       0.15  United States    Seattle 2021-10-16     Bonus  \n",
      "1       0.00          China  Chongqing        NaT  No bonus  \n",
      "2       0.20  United States    Chicago        NaT     Bonus  \n",
      "3       0.07  United States    Chicago        NaT     Bonus  \n",
      "4       0.00  United States    Phoenix        NaT  No bonus  \n",
      "..       ...            ...        ...        ...       ...  \n",
      "995     0.00  United States   Columbus        NaT  No bonus  \n",
      "996     0.00          China    Chengdu 2018-01-08  No bonus  \n",
      "997     0.15  United States      Miami        NaT     Bonus  \n",
      "998     0.00          China    Chengdu        NaT  No bonus  \n",
      "999     0.31  United States      Miami        NaT     Bonus  \n",
      "\n",
      "[1000 rows x 15 columns]\n"
     ]
    }
   ],
   "source": [
    "import pandas as pd \n",
    "df = pd.read_excel(\"ESD.xlsx\")\n",
    "df.loc[(df[\"Bonus %\"] == 0),\"GetBonus\"] = \"No bonus\"\n",
    "df.loc[(df[\"Bonus %\"] > 0), \"GetBonus\"] = \"Bonus\"\n",
    "print(df)\n"
   ]
  },
  {
   "cell_type": "raw",
   "id": "404d3eaa-a069-46d4-a2a9-8fff2d4feaf2",
   "metadata": {},
   "source": [
    "Shorting the Name by three letter"
   ]
  },
  {
   "cell_type": "code",
   "execution_count": 21,
   "id": "0b942bf4-c9bb-4e3d-9165-4da71a7bce5a",
   "metadata": {},
   "outputs": [
    {
     "name": "stdout",
     "output_type": "stream",
     "text": [
      "     Months Short_month\n",
      "0   January         Jan\n",
      "1  February         Feb\n",
      "2     March         Mar\n",
      "3     April         Apr\n"
     ]
    }
   ],
   "source": [
    "data = {\"Months\":[\"January\", \"February\", \"March\", \"April\"]}\n",
    "a = pd.DataFrame(data)\n",
    "def extract(value):\n",
    "    return value[0:3]\n",
    "a[\"Short_month\"] = a[\"Months\"].map(extract)\n",
    "print(a)"
   ]
  },
  {
   "cell_type": "raw",
   "id": "76d93f59-ae23-4185-9fa5-e685743baeec",
   "metadata": {},
   "source": [
    "Groupby in pandas"
   ]
  },
  {
   "cell_type": "code",
   "execution_count": 23,
   "id": "136853a6-0dd8-498b-b757-f152d6dc21e8",
   "metadata": {},
   "outputs": [
    {
     "name": "stdout",
     "output_type": "stream",
     "text": [
      "      EEID        Full Name                 Job Title       Department  \\\n",
      "0   E02387      Emily Davis                Sr. Manger               IT   \n",
      "1   E04105    Theodore Dinh       Technical Architect               IT   \n",
      "2   E02572     Luna Sanders                  Director          Finance   \n",
      "3   E02832  Penelope Jordan  Computer Systems Manager               IT   \n",
      "4   E01639        Austin Vo               Sr. Analyst          Finance   \n",
      "5   E00644     Joshua Gupta    Account Representative            Sales   \n",
      "6   E01550      Ruby Barnes                   Manager               IT   \n",
      "7   E04332      Luke Martin                   Analyst          Finance   \n",
      "8   E04533    Easton Bailey                   Manager       Accounting   \n",
      "9   E03838  Madeline Walker               Sr. Analyst          Finance   \n",
      "10  E00591     Savannah Ali                Sr. Manger  Human Resources   \n",
      "11  E03344    Camila Rogers         Controls Engineer      Engineering   \n",
      "12  E00530        Eli Jones                   Manager  Human Resources   \n",
      "13  E04239     Everleigh Ng                Sr. Manger          Finance   \n",
      "14  E03496      Robert Yang               Sr. Analyst       Accounting   \n",
      "\n",
      "             Business Unit  Gender  Ethnicity  Age  Hire Date  Annual Salary  \\\n",
      "0   Research & Development  Female      Black   55 2016-04-08         141604   \n",
      "1            Manufacturing    Male      Asian   59 1997-11-29          99975   \n",
      "2      Speciality Products  Female  Caucasian   50 2006-10-26         163099   \n",
      "3            Manufacturing  Female  Caucasian   26 2019-09-27          84913   \n",
      "4            Manufacturing    Male      Asian   55 1995-11-20          95409   \n",
      "5                Corporate    Male      Asian   57 2017-01-24          50994   \n",
      "6                Corporate  Female  Caucasian   27 2020-07-01         119746   \n",
      "7            Manufacturing    Male      Black   25 2020-05-16          41336   \n",
      "8            Manufacturing    Male  Caucasian   29 2019-01-25         113527   \n",
      "9      Speciality Products  Female  Caucasian   34 2018-06-13          77203   \n",
      "10           Manufacturing  Female      Asian   36 2009-02-11         157333   \n",
      "11     Speciality Products  Female  Caucasian   27 2021-10-21         109851   \n",
      "12           Manufacturing    Male  Caucasian   59 1999-03-14         105086   \n",
      "13  Research & Development  Female      Asian   51 2021-06-10         146742   \n",
      "14     Speciality Products    Male      Asian   31 2017-11-04          97078   \n",
      "\n",
      "    Bonus %        Country       City  Exit Date  \n",
      "0      0.15  United States    Seattle 2021-10-16  \n",
      "1      0.00          China  Chongqing        NaT  \n",
      "2      0.20  United States    Chicago        NaT  \n",
      "3      0.07  United States    Chicago        NaT  \n",
      "4      0.00  United States    Phoenix        NaT  \n",
      "5      0.00          China  Chongqing        NaT  \n",
      "6      0.10  United States    Phoenix        NaT  \n",
      "7      0.00  United States      Miami 2021-05-20  \n",
      "8      0.06  United States     Austin        NaT  \n",
      "9      0.00  United States    Chicago        NaT  \n",
      "10     0.15  United States      Miami        NaT  \n",
      "11     0.00  United States    Seattle        NaT  \n",
      "12     0.09  United States     Austin        NaT  \n",
      "13     0.10          China   Shanghai        NaT  \n",
      "14     0.00  United States     Austin 2020-03-09  \n"
     ]
    }
   ],
   "source": [
    "data = pd.read_excel(\"ESD.xlsx\")\n",
    "print(data.head(15))"
   ]
  },
  {
   "cell_type": "code",
   "execution_count": 29,
   "id": "a247d67b-df8e-4271-84dd-cab6536c1059",
   "metadata": {},
   "outputs": [
    {
     "name": "stdout",
     "output_type": "stream",
     "text": [
      "                        EEID\n",
      "Department      Gender      \n",
      "Accounting      Female    53\n",
      "                Male      43\n",
      "Engineering     Female    80\n",
      "                Male      78\n",
      "Finance         Female    69\n",
      "                Male      51\n",
      "Human Resources Female    64\n",
      "                Male      61\n",
      "IT              Female   119\n",
      "                Male     122\n",
      "Marketing       Female    57\n",
      "                Male      63\n",
      "Sales           Female    76\n",
      "                Male      64\n"
     ]
    }
   ],
   "source": [
    "gp = data.groupby([\"Department\",\"Gender\"]).agg({\"EEID\":\"count\"})\n",
    "print(gp)"
   ]
  },
  {
   "cell_type": "code",
   "execution_count": 33,
   "id": "9edfbcf5-edcd-458a-a3c3-d61cff949953",
   "metadata": {},
   "outputs": [
    {
     "name": "stdout",
     "output_type": "stream",
     "text": [
      "                     Age\n",
      "Country                 \n",
      "Brazil         43.654676\n",
      "China          45.389908\n",
      "United States  44.197512\n"
     ]
    }
   ],
   "source": [
    "gp1 = data.groupby(\"Country\").agg({\"Age\":\"mean\"})\n",
    "print(gp1)"
   ]
  },
  {
   "cell_type": "code",
   "execution_count": 35,
   "id": "edb0b28a-eef6-474f-8da7-e9673c21e4fe",
   "metadata": {},
   "outputs": [
    {
     "name": "stdout",
     "output_type": "stream",
     "text": [
      "                      Annual Salary\n",
      "Country       Gender               \n",
      "Brazil        Female         258426\n",
      "              Male           249506\n",
      "China         Female         249686\n",
      "              Male           257194\n",
      "United States Female         258498\n",
      "              Male           258081\n"
     ]
    }
   ],
   "source": [
    "gp2= data.groupby([\"Country\",\"Gender\"]).agg({\"Annual Salary\":\"max\"})\n",
    "print(gp2)"
   ]
  },
  {
   "cell_type": "markdown",
   "id": "05969c7b-fa1e-42dd-ae17-a14f772059e6",
   "metadata": {},
   "source": [
    "Merg, Join and Concanate"
   ]
  },
  {
   "cell_type": "code",
   "execution_count": 47,
   "id": "bb234d06-4474-4895-afae-6c2e110f6759",
   "metadata": {},
   "outputs": [
    {
     "name": "stdout",
     "output_type": "stream",
     "text": [
      "  EmpId  Names  Age\n",
      "0   E01  Johan   21\n",
      "1   E02  Rohan   22\n",
      "2   E03  Mohan   23\n",
      "3   E04  Sohan   44\n",
      "4   E05   Tony   32\n",
      "  EmpId  Salary\n",
      "0   E01   45000\n",
      "1   E02   56000\n",
      "2   E03   78000\n",
      "3   E04   87000\n",
      "4   E05   45000\n"
     ]
    }
   ],
   "source": [
    "import pandas as pd \n",
    "data1 = {\"EmpId\":[\"E01\",\"E02\",\"E03\",\"E04\",\"E05\"],\n",
    "         \"Names\":[\"Johan\",\"Rohan\", \"Mohan\",\"Sohan\",\"Tony\"],\n",
    "         \"Age\":[21,22,23,44,32]}\n",
    "data2 = {\"EmpId\":[\"E01\",\"E02\",\"E03\",\"E04\",\"E05\"],\n",
    "         \"Salary\":[45000,56000,78000,87000,45000]}\n",
    "df1 = pd.DataFrame(data1)\n",
    "print(df1)\n",
    "df2 = pd.DataFrame(data2)\n",
    "print(df2)\n",
    "\n",
    "           \n"
   ]
  },
  {
   "cell_type": "code",
   "execution_count": 51,
   "id": "175d7599-fe4f-4785-bc49-55c37c0667a6",
   "metadata": {},
   "outputs": [
    {
     "name": "stdout",
     "output_type": "stream",
     "text": [
      "  EmpId  Names  Age  Salary\n",
      "0   E01  Johan   21   45000\n",
      "1   E02  Rohan   22   56000\n",
      "2   E03  Mohan   23   78000\n",
      "3   E04  Sohan   44   87000\n",
      "4   E05   Tony   32   45000\n"
     ]
    }
   ],
   "source": [
    "df = pd.merge(df1,df2 ,on= \"EmpId\")\n",
    "print(df)"
   ]
  },
  {
   "cell_type": "code",
   "execution_count": 55,
   "id": "9c16165e-262c-46e0-bae1-b2a91925125f",
   "metadata": {},
   "outputs": [
    {
     "ename": "AttributeError",
     "evalue": "module 'pandas' has no attribute 'join'",
     "output_type": "error",
     "traceback": [
      "\u001b[1;31m---------------------------------------------------------------------------\u001b[0m",
      "\u001b[1;31mAttributeError\u001b[0m                            Traceback (most recent call last)",
      "Cell \u001b[1;32mIn[55], line 1\u001b[0m\n\u001b[1;32m----> 1\u001b[0m dff\u001b[38;5;241m=\u001b[39m \u001b[43mpd\u001b[49m\u001b[38;5;241;43m.\u001b[39;49m\u001b[43mjoin\u001b[49m(df1,df2)\n\u001b[0;32m      2\u001b[0m \u001b[38;5;28mprint\u001b[39m(dff)\n",
      "\u001b[1;31mAttributeError\u001b[0m: module 'pandas' has no attribute 'join'"
     ]
    }
   ],
   "source": [
    "dff= pd.join(df1,df2)\n",
    "print(dff)"
   ]
  },
  {
   "cell_type": "code",
   "execution_count": 58,
   "id": "4e0f2479-64b8-4c5b-baa1-38f60b1b323c",
   "metadata": {},
   "outputs": [],
   "source": [
    "import pandas as pd \n",
    "data1 = {\"EmpId\":[\"E01\",\"E02\",\"E03\",\"E04\",\"E05\"],\n",
    "         \"Names\":[\"Johan\",\"Rohan\", \"Mohan\",\"Sohan\",\"Tony\"],\n",
    "         \"Age\":[21,22,23,44,32]}\n",
    "data2 = {\"EmpId\":[\"E06\",\"E07\",\"E08\",\"E09\",\"E10\"],\n",
    "         \"Names\":[\"Rakesh\",\"Aditi\", \"vivba\",\"hema\",\"ganu\"],\n",
    "         \"Age\":[21,22,23,44,32]}\n",
    "df1 = pd.DataFrame(data1)\n",
    "df2 = pd.DataFrame(data2)\n",
    "\n"
   ]
  },
  {
   "cell_type": "code",
   "execution_count": 59,
   "id": "59a45182-3be4-44d3-9d39-617d745e89ac",
   "metadata": {},
   "outputs": [
    {
     "name": "stdout",
     "output_type": "stream",
     "text": [
      "  EmpId   Names  Age\n",
      "0   E01   Johan   21\n",
      "1   E02   Rohan   22\n",
      "2   E03   Mohan   23\n",
      "3   E04   Sohan   44\n",
      "4   E05    Tony   32\n",
      "0   E06  Rakesh   21\n",
      "1   E07   Aditi   22\n",
      "2   E08   vivba   23\n",
      "3   E09    hema   44\n",
      "4   E10    ganu   32\n"
     ]
    }
   ],
   "source": [
    "print(pd.concat([df1,df2]))"
   ]
  },
  {
   "cell_type": "markdown",
   "id": "d1f92dc9-93eb-4fc4-9289-6946b908e22a",
   "metadata": {},
   "source": [
    "Compare Dataframes"
   ]
  },
  {
   "cell_type": "code",
   "execution_count": 75,
   "id": "789c6b77-6b00-4d52-a028-a6e7cf5ae83a",
   "metadata": {},
   "outputs": [
    {
     "name": "stdout",
     "output_type": "stream",
     "text": [
      "   Fruits  Prices  Quantity\n",
      "0    mago     100        15\n",
      "1   apple     450        12\n",
      "2     pea     780        23\n",
      "3    bana     888        20\n",
      "4  papaya     990        25\n",
      "   Fruits  Prices  Quantity  Price\n",
      "0    mago     100        10  120.0\n",
      "1   apple     450        15  175.0\n",
      "2     pea     780        23    NaN\n",
      "3    bana     888         3   30.0\n",
      "4  papaya     990        25    NaN\n",
      "  Quantity      \n",
      "      self other\n",
      "0     15.0  10.0\n",
      "1     12.0  15.0\n",
      "3     20.0   3.0\n"
     ]
    }
   ],
   "source": [
    "import pandas as pd\n",
    "dict = {\"Fruits\":[\"mago\", \"apple\",\"pea\",\"bana\",\"papaya\"],\n",
    "        \"Prices\":[100,450,780,888,990],\n",
    "        \"Quantity\":[15,12,23,20,25]}\n",
    "df = pd.DataFrame(dict)\n",
    "print(df)\n",
    "df2= df.copy()\n",
    "df2.loc[0,\"Price\"]=120\n",
    "df2.loc[1,\"Price\"]=175\n",
    "df2.loc[3,\"Price\"]=30\n",
    "df2.loc[0,\"Quantity\"]=10\n",
    "df2.loc[1,\"Quantity\"]=15\n",
    "df2.loc[3,\"Quantity\"]=3\n",
    "print(df2)\n",
    "df, df2 = df.align(df2, join='inner', axis=1)\n",
    "print(df.compare(df2, keep_shape=False))"
   ]
  },
  {
   "cell_type": "markdown",
   "id": "8cca0b65-26a3-4400-87c1-155720a0ad0a",
   "metadata": {},
   "source": [
    "Pivoting and Melting Data Frame\n"
   ]
  },
  {
   "cell_type": "code",
   "execution_count": 7,
   "id": "a52141f8-a4e1-4bc6-bede-eb86f00e8227",
   "metadata": {},
   "outputs": [
    {
     "name": "stdout",
     "output_type": "stream",
     "text": [
      "  keys   Name Houses Grades\n",
      "0   k1  Johan    red    3rd\n",
      "1   k2    Ben   blue    8th\n",
      "2   k3  David  green    9th\n",
      "3   k4  Peter    red    7th\n",
      "     Houses                    Grades                  \n",
      "Name    Ben  David Johan Peter    Ben David Johan Peter\n",
      "keys                                                   \n",
      "k1      NaN    NaN   red   NaN    NaN   NaN   3rd   NaN\n",
      "k2     blue    NaN   NaN   NaN    8th   NaN   NaN   NaN\n",
      "k3      NaN  green   NaN   NaN    NaN   9th   NaN   NaN\n",
      "k4      NaN    NaN   NaN   red    NaN   NaN   NaN   7th\n"
     ]
    }
   ],
   "source": [
    "import pandas as pd\n",
    "dict = {\"keys\": [\"k1\",\"k2\", \"k3\", \"k4\"],\n",
    "        \"Name\": [\"Johan\", \"Ben\", \"David\", \"Peter\"],\n",
    "        \"Houses\": [\"red\", \"blue\", \"green\",\"red\"],\n",
    "       \"Grades\":[\"3rd\",\"8th\",\"9th\",\"7th\"]}\n",
    "df = pd.DataFrame(dict)\n",
    "print(df)\n",
    "print(df.pivot(index=\"keys\",columns=\"Name\",values=[\"Houses\",\"Grades\"]))"
   ]
  },
  {
   "cell_type": "code",
   "execution_count": 12,
   "id": "9fbd5339-7b96-48a2-a84c-456e37e1def5",
   "metadata": {},
   "outputs": [
    {
     "name": "stdout",
     "output_type": "stream",
     "text": [
      "    Name Houses Grades\n",
      "0  Johan    red    3rd\n",
      "1    Ben   blue    8th\n",
      "2  David  green    9th\n",
      "3  Peter    red    7th\n",
      "    Name variable  value\n",
      "0  Johan   Houses    red\n",
      "1    Ben   Houses   blue\n",
      "2  David   Houses  green\n",
      "3  Peter   Houses    red\n",
      "4  Johan   Grades    3rd\n",
      "5    Ben   Grades    8th\n",
      "6  David   Grades    9th\n",
      "7  Peter   Grades    7th\n"
     ]
    }
   ],
   "source": [
    "import pandas as pd\n",
    "dict = {\"Name\": [\"Johan\", \"Ben\", \"David\", \"Peter\"],\n",
    "        \"Houses\": [\"red\", \"blue\", \"green\",\"red\"],\n",
    "       \"Grades\":[\"3rd\",\"8th\",\"9th\",\"7th\"]}\n",
    "df = pd.DataFrame(dict)\n",
    "print(df)\n",
    "print(pd.melt(df, id_vars=[\"Name\"],value_vars=[\"Houses\",\"Grades\"]))"
   ]
  },
  {
   "cell_type": "code",
   "execution_count": null,
   "id": "0f2128ed-e390-4c10-9534-c9a1863a5d5c",
   "metadata": {},
   "outputs": [],
   "source": []
  }
 ],
 "metadata": {
  "kernelspec": {
   "display_name": "Python 3 (ipykernel)",
   "language": "python",
   "name": "python3"
  },
  "language_info": {
   "codemirror_mode": {
    "name": "ipython",
    "version": 3
   },
   "file_extension": ".py",
   "mimetype": "text/x-python",
   "name": "python",
   "nbconvert_exporter": "python",
   "pygments_lexer": "ipython3",
   "version": "3.12.3"
  }
 },
 "nbformat": 4,
 "nbformat_minor": 5
}
