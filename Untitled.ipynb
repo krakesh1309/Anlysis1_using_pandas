{
 "cells": [
  {
   "cell_type": "code",
   "execution_count": null,
   "id": "a3303fb9-7e2e-4e7f-9465-20836f0b9e12",
   "metadata": {},
   "outputs": [],
   "source": []
  }
 ],
 "metadata": {
  "kernelspec": {
   "display_name": "",
   "name": ""
  },
  "language_info": {
   "name": ""
  }
 },
 "nbformat": 4,
 "nbformat_minor": 5
}
